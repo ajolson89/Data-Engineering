{
 "cells": [
  {
   "cell_type": "markdown",
   "metadata": {},
   "source": [
    "# Ford GoBike Program Analysis\n",
    "Author: Aaron Olson\n",
    "\n",
    "w205 - Data Engineering\n",
    "\n",
    "Project Motivations:\n",
    "- What are the 5 most popular trips that you would call \"commuter trips\"?\n",
    "- What are your recommendations for offers (justify based on your findings)?"
   ]
  },
  {
   "cell_type": "code",
   "execution_count": 77,
   "metadata": {},
   "outputs": [],
   "source": [
    "import pandas as pd\n",
    "import matplotlib.pyplot as plt\n",
    "%matplotlib inline"
   ]
  },
  {
   "cell_type": "markdown",
   "metadata": {},
   "source": [
    "## What Defines a Commuter Trip?"
   ]
  },
  {
   "cell_type": "code",
   "execution_count": 78,
   "metadata": {},
   "outputs": [
    {
     "name": "stdout",
     "output_type": "stream",
     "text": [
      "Waiting on bqjob_r7fc1dc69731a296_00000161ae7ddaf5_1 ... (0s) Current status: DONE   \n",
      "+--------+\n",
      "|  f0_   |\n",
      "+--------+\n",
      "| 219263 |\n",
      "+--------+\n"
     ]
    }
   ],
   "source": [
    "! bq query --use_legacy_sql=FALSE 'SELECT count(*) FROM `bigquery-public-data.san_francisco.bikeshare_trips` WHERE (EXTRACT(HOUR FROM start_date) < 10) AND (EXTRACT(HOUR FROM start_date) > 7) AND (EXTRACT(DAYOFWEEK FROM start_date) > 1) AND (EXTRACT(DAYOFWEEK FROM start_date) <= 6)'"
   ]
  },
  {
   "cell_type": "code",
   "execution_count": 79,
   "metadata": {},
   "outputs": [
    {
     "name": "stdout",
     "output_type": "stream",
     "text": [
      "Waiting on bqjob_r99f7b44722a13d4_00000161ae7de832_1 ... (0s) Current status: DONE   \n",
      "+--------+\n",
      "|  f0_   |\n",
      "+--------+\n",
      "| 196520 |\n",
      "+--------+\n"
     ]
    }
   ],
   "source": [
    "! bq query --use_legacy_sql=FALSE 'SELECT count(*) FROM `bigquery-public-data.san_francisco.bikeshare_trips` WHERE (EXTRACT(HOUR FROM start_date) < 19) AND (EXTRACT(HOUR FROM start_date) > 16) AND (EXTRACT(DAYOFWEEK FROM start_date) > 1) AND (EXTRACT(DAYOFWEEK FROM start_date) <= 6)'"
   ]
  },
  {
   "cell_type": "markdown",
   "metadata": {},
   "source": [
    "Define the time windows for commuter trips as starting between 7-10 am and then again from 4-7 pm M-F. Since commuter trips are round-trip, the smaller number will estimate the number of commuter trips. This is a best estimate, which likely over-estimates the number of commuter trips, since there is a possiblity that a portion of the evening riders are not commuters, however we will use the number 196,520 as the number of commuters. Going forward we will define commuter trips as those that take place M-F between 4-7 pm. "
   ]
  },
  {
   "cell_type": "code",
   "execution_count": 80,
   "metadata": {},
   "outputs": [
    {
     "name": "stdout",
     "output_type": "stream",
     "text": [
      "\r",
      "Waiting on bqjob_r3509b53053b05491_00000161ae7df383_1 ... (0s) Current status: DONE   "
     ]
    }
   ],
   "source": [
    "! bq query --use_legacy_sql=FALSE --format=csv 'SELECT EXTRACT(DAYOFWEEK FROM start_date), count(*) FROM `bigquery-public-data.san_francisco.bikeshare_trips` WHERE (EXTRACT(HOUR FROM start_date) < 19) AND (EXTRACT(HOUR FROM start_date) > 16) GROUP BY EXTRACT(DAYOFWEEK FROM start_date)' > result.csv"
   ]
  },
  {
   "cell_type": "code",
   "execution_count": 81,
   "metadata": {},
   "outputs": [
    {
     "data": {
      "text/html": [
       "<div>\n",
       "<style scoped>\n",
       "    .dataframe tbody tr th:only-of-type {\n",
       "        vertical-align: middle;\n",
       "    }\n",
       "\n",
       "    .dataframe tbody tr th {\n",
       "        vertical-align: top;\n",
       "    }\n",
       "\n",
       "    .dataframe thead th {\n",
       "        text-align: right;\n",
       "    }\n",
       "</style>\n",
       "<table border=\"1\" class=\"dataframe\">\n",
       "  <thead>\n",
       "    <tr style=\"text-align: right;\">\n",
       "      <th></th>\n",
       "      <th>day</th>\n",
       "      <th>rider_count</th>\n",
       "      <th>weekday</th>\n",
       "    </tr>\n",
       "  </thead>\n",
       "  <tbody>\n",
       "    <tr>\n",
       "      <th>1</th>\n",
       "      <td>1</td>\n",
       "      <td>6614</td>\n",
       "      <td>Sunday</td>\n",
       "    </tr>\n",
       "    <tr>\n",
       "      <th>2</th>\n",
       "      <td>2</td>\n",
       "      <td>40722</td>\n",
       "      <td>Monday</td>\n",
       "    </tr>\n",
       "    <tr>\n",
       "      <th>4</th>\n",
       "      <td>3</td>\n",
       "      <td>42922</td>\n",
       "      <td>Tuesday</td>\n",
       "    </tr>\n",
       "    <tr>\n",
       "      <th>5</th>\n",
       "      <td>4</td>\n",
       "      <td>41378</td>\n",
       "      <td>Wednesday</td>\n",
       "    </tr>\n",
       "    <tr>\n",
       "      <th>0</th>\n",
       "      <td>5</td>\n",
       "      <td>39052</td>\n",
       "      <td>Thursday</td>\n",
       "    </tr>\n",
       "    <tr>\n",
       "      <th>3</th>\n",
       "      <td>6</td>\n",
       "      <td>32446</td>\n",
       "      <td>Friday</td>\n",
       "    </tr>\n",
       "    <tr>\n",
       "      <th>6</th>\n",
       "      <td>7</td>\n",
       "      <td>7737</td>\n",
       "      <td>Saturday</td>\n",
       "    </tr>\n",
       "  </tbody>\n",
       "</table>\n",
       "</div>"
      ],
      "text/plain": [
       "   day  rider_count    weekday\n",
       "1    1         6614     Sunday\n",
       "2    2        40722     Monday\n",
       "4    3        42922    Tuesday\n",
       "5    4        41378  Wednesday\n",
       "0    5        39052   Thursday\n",
       "3    6        32446     Friday\n",
       "6    7         7737   Saturday"
      ]
     },
     "execution_count": 81,
     "metadata": {},
     "output_type": "execute_result"
    }
   ],
   "source": [
    "trips_by_day = pd.read_csv('result.csv')\n",
    "trips_by_day.columns = ['day', 'rider_count']\n",
    "trips_by_day['weekday'] = ['Thursday', 'Sunday', 'Monday', 'Friday', 'Tuesday', 'Wednesday', 'Saturday']\n",
    "trips_by_day = trips_by_day.sort_values(by='day')\n",
    "trips_by_day"
   ]
  },
  {
   "cell_type": "code",
   "execution_count": 82,
   "metadata": {},
   "outputs": [
    {
     "data": {
      "text/plain": [
       "<matplotlib.axes._subplots.AxesSubplot at 0x7fd107416518>"
      ]
     },
     "execution_count": 82,
     "metadata": {},
     "output_type": "execute_result"
    },
    {
     "data": {
      "image/png": "[encoded data removed]",
      "text/plain": [
       "<matplotlib.figure.Figure at 0x7fd1073fd550>"
      ]
     },
     "metadata": {},
     "output_type": "display_data"
    }
   ],
   "source": [
    "trips_by_day.plot.bar(x='weekday', y='rider_count', legend=False, title='Rider Count by Day of Week', color = 'b')"
   ]
  },
  {
   "cell_type": "markdown",
   "metadata": {},
   "source": [
    "Looking at ridership by weekday, it is evident that Monday through Friday has the largest rider counts between 4-7 pm, which supports the notion that these riders are using the bikeshare system for commuting purposes. From this evidence, we will continue to define commuter trips as before (between 4-7 pm and occuring M-F). Using this information, it will be helpful to understand ridership breakdown throughout the year."
   ]
  },
  {
   "cell_type": "markdown",
   "metadata": {},
   "source": [
    "## Commuter Rider Count by Month"
   ]
  },
  {
   "cell_type": "code",
   "execution_count": 83,
   "metadata": {},
   "outputs": [
    {
     "name": "stdout",
     "output_type": "stream",
     "text": [
      "\r",
      "Waiting on bqjob_r42f92cc581f0a65c_00000161ae7e0216_1 ... (0s) Current status: DONE   "
     ]
    }
   ],
   "source": [
    "! bq query --use_legacy_sql=FALSE --format=csv 'SELECT EXTRACT(MONTH FROM start_date), count(*) FROM (SELECT * FROM `bigquery-public-data.san_francisco.bikeshare_trips` WHERE (EXTRACT(HOUR FROM start_date) < 19) AND  (EXTRACT(HOUR FROM start_date) > 16) AND (EXTRACT(DAYOFWEEK FROM start_date) > 1) AND (EXTRACT(DAYOFWEEK FROM start_date) <= 6)) GROUP BY EXTRACT(MONTH FROM start_date)' > result.csv"
   ]
  },
  {
   "cell_type": "code",
   "execution_count": 84,
   "metadata": {},
   "outputs": [
    {
     "data": {
      "text/html": [
       "<div>\n",
       "<style scoped>\n",
       "    .dataframe tbody tr th:only-of-type {\n",
       "        vertical-align: middle;\n",
       "    }\n",
       "\n",
       "    .dataframe tbody tr th {\n",
       "        vertical-align: top;\n",
       "    }\n",
       "\n",
       "    .dataframe thead th {\n",
       "        text-align: right;\n",
       "    }\n",
       "</style>\n",
       "<table border=\"1\" class=\"dataframe\">\n",
       "  <thead>\n",
       "    <tr style=\"text-align: right;\">\n",
       "      <th></th>\n",
       "      <th>month</th>\n",
       "      <th>count</th>\n",
       "      <th>month_name</th>\n",
       "    </tr>\n",
       "  </thead>\n",
       "  <tbody>\n",
       "    <tr>\n",
       "      <th>5</th>\n",
       "      <td>1</td>\n",
       "      <td>14353</td>\n",
       "      <td>January</td>\n",
       "    </tr>\n",
       "    <tr>\n",
       "      <th>7</th>\n",
       "      <td>2</td>\n",
       "      <td>13946</td>\n",
       "      <td>February</td>\n",
       "    </tr>\n",
       "    <tr>\n",
       "      <th>6</th>\n",
       "      <td>3</td>\n",
       "      <td>16818</td>\n",
       "      <td>March</td>\n",
       "    </tr>\n",
       "    <tr>\n",
       "      <th>8</th>\n",
       "      <td>4</td>\n",
       "      <td>17618</td>\n",
       "      <td>April</td>\n",
       "    </tr>\n",
       "    <tr>\n",
       "      <th>4</th>\n",
       "      <td>5</td>\n",
       "      <td>17315</td>\n",
       "      <td>May</td>\n",
       "    </tr>\n",
       "    <tr>\n",
       "      <th>11</th>\n",
       "      <td>6</td>\n",
       "      <td>19455</td>\n",
       "      <td>June</td>\n",
       "    </tr>\n",
       "    <tr>\n",
       "      <th>9</th>\n",
       "      <td>7</td>\n",
       "      <td>18554</td>\n",
       "      <td>July</td>\n",
       "    </tr>\n",
       "    <tr>\n",
       "      <th>10</th>\n",
       "      <td>8</td>\n",
       "      <td>19303</td>\n",
       "      <td>August</td>\n",
       "    </tr>\n",
       "    <tr>\n",
       "      <th>0</th>\n",
       "      <td>9</td>\n",
       "      <td>16833</td>\n",
       "      <td>September</td>\n",
       "    </tr>\n",
       "    <tr>\n",
       "      <th>3</th>\n",
       "      <td>10</td>\n",
       "      <td>18394</td>\n",
       "      <td>October</td>\n",
       "    </tr>\n",
       "    <tr>\n",
       "      <th>1</th>\n",
       "      <td>11</td>\n",
       "      <td>13430</td>\n",
       "      <td>November</td>\n",
       "    </tr>\n",
       "    <tr>\n",
       "      <th>2</th>\n",
       "      <td>12</td>\n",
       "      <td>10501</td>\n",
       "      <td>December</td>\n",
       "    </tr>\n",
       "  </tbody>\n",
       "</table>\n",
       "</div>"
      ],
      "text/plain": [
       "    month  count month_name\n",
       "5       1  14353    January\n",
       "7       2  13946   February\n",
       "6       3  16818      March\n",
       "8       4  17618      April\n",
       "4       5  17315        May\n",
       "11      6  19455       June\n",
       "9       7  18554       July\n",
       "10      8  19303     August\n",
       "0       9  16833  September\n",
       "3      10  18394    October\n",
       "1      11  13430   November\n",
       "2      12  10501   December"
      ]
     },
     "execution_count": 84,
     "metadata": {},
     "output_type": "execute_result"
    }
   ],
   "source": [
    "trips_by_month = pd.read_csv('result.csv')\n",
    "trips_by_month.columns = ['month', 'count']\n",
    "trips_by_month = trips_by_month.sort_values(by='month')\n",
    "trips_by_month['month_name'] = ['January', 'February', 'March', 'April', 'May', 'June', 'July', 'August', 'September', 'October', 'November', 'December']\n",
    "trips_by_month"
   ]
  },
  {
   "cell_type": "code",
   "execution_count": 85,
   "metadata": {},
   "outputs": [
    {
     "data": {
      "text/plain": [
       "<matplotlib.axes._subplots.AxesSubplot at 0x7fd1073c57f0>"
      ]
     },
     "execution_count": 85,
     "metadata": {},
     "output_type": "execute_result"
    },
    {
     "data": {
      "image/png": "[encoded data removed]",
      "text/plain": [
       "<matplotlib.figure.Figure at 0x7fd1073cc978>"
      ]
     },
     "metadata": {},
     "output_type": "display_data"
    }
   ],
   "source": [
    "trips_by_month.plot.bar(x='month_name', y='count', legend=False, title='Rider Count by Month', color = 'b')"
   ]
  },
  {
   "cell_type": "markdown",
   "metadata": {},
   "source": [
    "As would be expected, ridership drops off in the winter months when temperatures are cooler. It may be advisable to offer promotions during these months in order to keep bike utilization high. Having an understanding of ridership throughout the year, we will take a look at the most popular routes, in order to see where riders are using the bikes, ensuring that we had adequate supply at popular routes, and detecting any patterns for popular trips. "
   ]
  },
  {
   "cell_type": "markdown",
   "metadata": {},
   "source": [
    "## Location Breakdown for Commuter Trips"
   ]
  },
  {
   "cell_type": "code",
   "execution_count": 86,
   "metadata": {},
   "outputs": [
    {
     "name": "stdout",
     "output_type": "stream",
     "text": [
      "Waiting on bqjob_r395b00a0a2b72daf_00000161ae7e102b_1 ... (0s) Current status: DONE   \n",
      "+-----------------------------------------------+------------------------------------------+-------+\n",
      "|              start_station_name               |             end_station_name             | trips |\n",
      "+-----------------------------------------------+------------------------------------------+-------+\n",
      "| Embarcadero at Sansome                        | Steuart at Market                        |  2703 |\n",
      "| 2nd at South Park                             | Market at Sansome                        |  2574 |\n",
      "| 2nd at Townsend                               | Harry Bridges Plaza (Ferry Building)     |  2450 |\n",
      "| Market at 10th                                | San Francisco Caltrain 2 (330 Townsend)  |  2286 |\n",
      "| Townsend at 7th                               | San Francisco Caltrain 2 (330 Townsend)  |  2068 |\n",
      "| Steuart at Market                             | San Francisco Caltrain (Townsend at 4th) |  2065 |\n",
      "| Embarcadero at Folsom                         | San Francisco Caltrain (Townsend at 4th) |  2055 |\n",
      "| Temporary Transbay Terminal (Howard at Beale) | San Francisco Caltrain (Townsend at 4th) |  1904 |\n",
      "| Howard at 2nd                                 | San Francisco Caltrain (Townsend at 4th) |  1784 |\n",
      "| 2nd at Townsend                               | Steuart at Market                        |  1762 |\n",
      "| Townsend at 7th                               | San Francisco Caltrain (Townsend at 4th) |  1608 |\n",
      "| Steuart at Market                             | San Francisco Caltrain 2 (330 Townsend)  |  1553 |\n",
      "| Mountain View City Hall                       | Mountain View Caltrain Station           |  1545 |\n",
      "| San Francisco Caltrain 2 (330 Townsend)       | Powell Street BART                       |  1543 |\n",
      "| Temporary Transbay Terminal (Howard at Beale) | San Francisco Caltrain 2 (330 Townsend)  |  1421 |\n",
      "| Embarcadero at Folsom                         | San Francisco Caltrain 2 (330 Townsend)  |  1418 |\n",
      "| Townsend at 7th                               | Civic Center BART (7th at Market)        |  1394 |\n",
      "| Market at 10th                                | San Francisco Caltrain (Townsend at 4th) |  1358 |\n",
      "| 2nd at Folsom                                 | Market at Sansome                        |  1323 |\n",
      "| Market at Sansome                             | San Francisco Caltrain (Townsend at 4th) |  1310 |\n",
      "+-----------------------------------------------+------------------------------------------+-------+\n"
     ]
    }
   ],
   "source": [
    "! bq query --use_legacy_sql=FALSE '  SELECT start_station_name, end_station_name, count(*) as trips FROM `bigquery-public-data.san_francisco.bikeshare_trips` WHERE (EXTRACT(HOUR FROM start_date) < 19) AND (EXTRACT(HOUR FROM start_date) > 16)  AND (EXTRACT(DAYOFWEEK FROM start_date) > 1) AND (EXTRACT(DAYOFWEEK FROM start_date) <= 6) GROUP BY start_station_name, end_station_name ORDER BY trips DESC LIMIT 20'"
   ]
  },
  {
   "cell_type": "markdown",
   "metadata": {},
   "source": [
    "Using our definition of commuter trips as those that take place between 4-7pm on M-F, we can see that the most common routes involve biking to a train station (13 of the 20 most popular trips). Presumably these are commuters who utilize the train to get close to work, and then take a bike to get to the specific office location and then return at night. \n",
    "\n",
    "From a commuting standpoint this makes sense. Additionally, knowing this information, we can ensure adequate bike allocation to train stations. Additionally, in order to increase ridership, it may be worthwhile to implement a promotion for those riders who pick up or drop off at a bike station. "
   ]
  },
  {
   "cell_type": "code",
   "execution_count": 87,
   "metadata": {},
   "outputs": [
    {
     "name": "stdout",
     "output_type": "stream",
     "text": [
      "Waiting on bqjob_r37427639367f0671_00000161ae7e1b8d_1 ... (0s) Current status: DONE   \n",
      "+----------+-------+\n",
      "| zip_code | trips |\n",
      "+----------+-------+\n",
      "| 94107    | 18692 |\n",
      "| 94105    | 11209 |\n",
      "| 94133    |  8964 |\n",
      "| 94103    |  7010 |\n",
      "| 94111    |  6580 |\n",
      "| 94102    |  5608 |\n",
      "| 94109    |  3566 |\n",
      "| 94611    |  3561 |\n",
      "| 95112    |  3139 |\n",
      "| 94158    |  3104 |\n",
      "| 94403    |  2976 |\n",
      "| 94602    |  2893 |\n",
      "| 94010    |  2859 |\n",
      "| 94610    |  2816 |\n",
      "| 94117    |  2529 |\n",
      "| 94040    |  2501 |\n",
      "| 94025    |  2387 |\n",
      "| 94501    |  2374 |\n",
      "| 95110    |  2147 |\n",
      "| 94041    |  2135 |\n",
      "+----------+-------+\n"
     ]
    }
   ],
   "source": [
    "! bq query --use_legacy_sql=FALSE '  SELECT zip_code, count(*) as trips FROM `bigquery-public-data.san_francisco.bikeshare_trips` WHERE (EXTRACT(HOUR FROM start_date) < 19) AND (EXTRACT(HOUR FROM start_date) > 16)  AND (EXTRACT(DAYOFWEEK FROM start_date) > 1) AND (EXTRACT(DAYOFWEEK FROM start_date) <= 6) GROUP BY zip_code ORDER BY trips DESC LIMIT 20'"
   ]
  },
  {
   "cell_type": "markdown",
   "metadata": {},
   "source": [
    "Analyzing the zip code data, we can see that ridership primarily occurs in the 94107 - which correlates to Dogpatch and South Beach districts within the city. Ridership drops down to below 4000 trips in the database after 7 zip codes. \n",
    "\n",
    "This data can be used to ensure adequate bike resources are placed in areas which are more profitable (more trips)."
   ]
  },
  {
   "cell_type": "markdown",
   "metadata": {},
   "source": [
    "## Computation of Break Even Point for current Price Plans"
   ]
  },
  {
   "cell_type": "markdown",
   "metadata": {},
   "source": [
    "- Active days per month: At 0.8 days/month activity level an annual membership makes the most since (assuming day pass vs annual)\n",
    "- Active trips per day: At 3.33 trips/day activity level, a day pass makes the most sense (assuming single vs day pass)\n",
    "- Active weeks per year: At 5 weeks/year an annual membership makes sense over a day pass (assuming two trips/day for 5 days/week)\n",
    "\n",
    "From this data, we can see that commuters benefit from purchasing annual memberships. "
   ]
  },
  {
   "cell_type": "markdown",
   "metadata": {},
   "source": [
    "## Recommendations based on analysis"
   ]
  },
  {
   "cell_type": "markdown",
   "metadata": {},
   "source": [
    "- Using location data, ensure adequate bikes per station are available for users (see zip code and most popular trip queries)\n",
    "- Offer commuter annual pass which enables two trips per day (one round trip) for Monday through Friday trips (all other trips available at single ride fee)\n",
    "- Potentially offer discount for trips starting/ending at train station: As noted earlier, many popular trips go to or from train station. This helps Ford to encourage ridership for commuters and allows them to increase bikes per station at train stations (stable ridership patterns)\n",
    "- Offer commuter day pass (two 30-min ride in 24 hrs) for \\$5 (less than 2x one-way trips)\n",
    "  "
   ]
  }
 ],
 "metadata": {
  "kernelspec": {
   "display_name": "Python 3",
   "language": "python",
   "name": "python3"
  },
  "language_info": {
   "codemirror_mode": {
    "name": "ipython",
    "version": 3
   },
   "file_extension": ".py",
   "mimetype": "text/x-python",
   "name": "python",
   "nbconvert_exporter": "python",
   "pygments_lexer": "ipython3",
   "version": "3.5.2"
  }
 },
 "nbformat": 4,
 "nbformat_minor": 2
}
